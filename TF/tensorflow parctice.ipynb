{
 "cells": [
  {
   "cell_type": "markdown",
   "id": "84806288",
   "metadata": {},
   "source": [
    "Tensorflow practice from coursera imperial college london"
   ]
  },
  {
   "cell_type": "code",
   "execution_count": 5,
   "id": "e73dcc0e",
   "metadata": {},
   "outputs": [
    {
     "data": {
      "text/plain": [
       "'2.4.1'"
      ]
     },
     "execution_count": 5,
     "metadata": {},
     "output_type": "execute_result"
    }
   ],
   "source": [
    "import tensorflow as tf\n",
    "import numpy as np\n",
    "tf.__version__"
   ]
  },
  {
   "cell_type": "markdown",
   "id": "cb0f5eb7",
   "metadata": {},
   "source": [
    "Week 1"
   ]
  },
  {
   "cell_type": "code",
   "execution_count": 2,
   "id": "9eaa9779",
   "metadata": {},
   "outputs": [],
   "source": [
    "mnist_data='/home/craig/Documents/coursera/imperial_1/1/tutorials/data/mnist.csv'\n",
    "data=np.loadtxt(mnist_data,delimiter=',')"
   ]
  },
  {
   "cell_type": "code",
   "execution_count": 3,
   "id": "7086ade4",
   "metadata": {},
   "outputs": [
    {
     "data": {
      "text/plain": [
       "(60000, 785)"
      ]
     },
     "execution_count": 3,
     "metadata": {},
     "output_type": "execute_result"
    }
   ],
   "source": [
    "data.shape"
   ]
  },
  {
   "cell_type": "code",
   "execution_count": 4,
   "id": "084f8017",
   "metadata": {},
   "outputs": [],
   "source": [
    "x_train=data[:,1:]\n",
    "y_train=data[:,0]\n",
    "x_train=x_train/255.0"
   ]
  },
  {
   "cell_type": "code",
   "execution_count": 9,
   "id": "5a6ef130",
   "metadata": {},
   "outputs": [
    {
     "data": {
      "text/plain": [
       "array([5., 0., 4., 1.])"
      ]
     },
     "execution_count": 9,
     "metadata": {},
     "output_type": "execute_result"
    }
   ],
   "source": [
    "y_train[0:4,]"
   ]
  },
  {
   "cell_type": "markdown",
   "id": "61c80860",
   "metadata": {},
   "source": [
    "Adam optimizer(https://arxiv.org/pdf/1412.6980.pdf):\n",
    "Uses a momentum term $m_t$ at time step t, with weights at time t being $w_t$, along with a learning rate (step size) and two decay rates, respectively (with recommended defaults) $\\alpha=.001, \\beta_1=.9, \\beta_2=.999,\\epsilon=10*{-8}$.  The optimization function is $f$. \\\n",
    "$g \\leftarrow \\nabla_w f(w)$ get gradients \\\n",
    "$m \\leftarrow \\beta_1 m +(1-\\beta_2)g$ update biased first moment \\\n",
    "$v \\leftarrow \\beta_2 v +(1-\\beta_2)g^2$ update biased second moment \\\n",
    "$m \\leftarrow m/(1-\\beta_1)$ bias corrected first moment \\\n",
    "$v \\leftarrow m/(1-\\beta_2)$ bias corrected second moment \\\n",
    "$w \\leftarrow w -\\alpha m/(\\sqrt{v} +\\epsilon)$ update weights \n",
    "\n",
    "Use sparse categorical cross entropy when labels are integers, categorical when labels are one hot encoded.\n",
    "Accuracy is what proportion of predictions are equal to labels.\n"
   ]
  },
  {
   "cell_type": "code",
   "execution_count": 12,
   "id": "f21df73c",
   "metadata": {},
   "outputs": [],
   "source": [
    "model=tf.keras.models.Sequential([\n",
    "    tf.keras.layers.Dense(16,activation='relu'),\n",
    "    tf.keras.layers.Dense(10,activation='softmax')\n",
    "])\n",
    "model.compile(optimizer='adam',\n",
    "              loss='sparse_categorical_crossentropy',\n",
    "              metrics=['accuracy'])"
   ]
  },
  {
   "cell_type": "code",
   "execution_count": 18,
   "id": "d27afe1f",
   "metadata": {},
   "outputs": [],
   "source": [
    "#alternatively\n",
    "model=tf.keras.models.Sequential()\n",
    "model.add(tf.keras.layers.Dense(16,activation='relu')) # can add input shape if desired, \n",
    "#Flattern layer unrolls a multi dim tensor into a vector\n",
    "model.add(tf.keras.layers.Dense(10,activation='softmax'))\n",
    "model.compile(optimizer='adam',\n",
    "              loss='sparse_categorical_crossentropy',\n",
    "              metrics=['accuracy'])"
   ]
  },
  {
   "cell_type": "code",
   "execution_count": 19,
   "id": "ee9017b2",
   "metadata": {},
   "outputs": [
    {
     "name": "stdout",
     "output_type": "stream",
     "text": [
      "Epoch 1/3\n",
      "1875/1875 [==============================] - 16s 8ms/step - loss: 0.7419 - accuracy: 0.7821\n",
      "Epoch 2/3\n",
      "1875/1875 [==============================] - 20s 11ms/step - loss: 0.2656 - accuracy: 0.9241\n",
      "Epoch 3/3\n",
      "1875/1875 [==============================] - 19s 10ms/step - loss: 0.2182 - accuracy: 0.9384\n"
     ]
    },
    {
     "data": {
      "text/plain": [
       "<tensorflow.python.keras.callbacks.History at 0x7ff46c159820>"
      ]
     },
     "execution_count": 19,
     "metadata": {},
     "output_type": "execute_result"
    }
   ],
   "source": [
    "model.fit(x_train,y_train,epochs=3,batch_size=32)\n"
   ]
  },
  {
   "cell_type": "markdown",
   "id": "0a207b18",
   "metadata": {},
   "source": [
    "Week 2:  Sequential models"
   ]
  },
  {
   "cell_type": "code",
   "execution_count": 4,
   "id": "03e5e0ba",
   "metadata": {},
   "outputs": [],
   "source": [
    "from tensorflow.keras.models import Sequential\n",
    "from tensorflow.keras.layers import Dense, Flatten, Softmax,Conv2D,MaxPooling2D,Conv1D,MaxPooling1D"
   ]
  },
  {
   "cell_type": "code",
   "execution_count": 29,
   "id": "f4773d24",
   "metadata": {},
   "outputs": [
    {
     "name": "stdout",
     "output_type": "stream",
     "text": [
      "Model: \"sequential_11\"\n",
      "_________________________________________________________________\n",
      "Layer (type)                 Output Shape              Param #   \n",
      "=================================================================\n",
      "flatten_4 (Flatten)          (None, 784)               0         \n",
      "_________________________________________________________________\n",
      "cool_layer (Dense)           (None, 16)                12560     \n",
      "_________________________________________________________________\n",
      "dense_28 (Dense)             (None, 16)                272       \n",
      "_________________________________________________________________\n",
      "dense_29 (Dense)             (None, 10)                170       \n",
      "=================================================================\n",
      "Total params: 13,002\n",
      "Trainable params: 13,002\n",
      "Non-trainable params: 0\n",
      "_________________________________________________________________\n"
     ]
    }
   ],
   "source": [
    "#feed forward  Weights are created when input layer provided (e.g via flatten or other)\n",
    "model=Sequential([\n",
    "    Flatten(input_shape=(28,28)),\n",
    "    tf.keras.layers.Dense(16,activation='relu',name='cool_layer'),\n",
    "    tf.keras.layers.Dense(16,activation='relu'),\n",
    "    tf.keras.layers.Dense(10,activation='softmax')\n",
    "])\n",
    "#model.weights\n",
    "model.summary()"
   ]
  },
  {
   "cell_type": "code",
   "execution_count": 2,
   "id": "6541f5b5",
   "metadata": {},
   "outputs": [
    {
     "ename": "NameError",
     "evalue": "name 'Sequential' is not defined",
     "output_type": "error",
     "traceback": [
      "\u001b[0;31m---------------------------------------------------------------------------\u001b[0m",
      "\u001b[0;31mNameError\u001b[0m                                 Traceback (most recent call last)",
      "Input \u001b[0;32mIn [2]\u001b[0m, in \u001b[0;36m<cell line: 1>\u001b[0;34m()\u001b[0m\n\u001b[0;32m----> 1\u001b[0m conv_model\u001b[38;5;241m=\u001b[39m\u001b[43mSequential\u001b[49m([\n\u001b[1;32m      2\u001b[0m     Conv2D(\u001b[38;5;241m16\u001b[39m,(\u001b[38;5;241m3\u001b[39m,\u001b[38;5;241m3\u001b[39m),activation\u001b[38;5;241m=\u001b[39m\u001b[38;5;124m'\u001b[39m\u001b[38;5;124mrelu\u001b[39m\u001b[38;5;124m'\u001b[39m,input_shape\u001b[38;5;241m=\u001b[39m(\u001b[38;5;241m32\u001b[39m,\u001b[38;5;241m32\u001b[39m,\u001b[38;5;241m3\u001b[39m)), \u001b[38;5;66;03m#num filters then size conv, output shape (batch size, input-2,,input-2, filers)\u001b[39;00m\n\u001b[1;32m      3\u001b[0m     \u001b[38;5;66;03m#input shape image size then channels\u001b[39;00m\n\u001b[1;32m      4\u001b[0m     MaxPooling2D((\u001b[38;5;241m3\u001b[39m,\u001b[38;5;241m3\u001b[39m)), \u001b[38;5;66;03m#output maps 3x3 into 1 covering image without overlap, then num filters (None, 10,10,16)\u001b[39;00m\n\u001b[1;32m      5\u001b[0m     Flatten(),\u001b[38;5;66;03m#(None, 1600)\u001b[39;00m\n\u001b[1;32m      6\u001b[0m     Dense(\u001b[38;5;241m64\u001b[39m,activation\u001b[38;5;241m=\u001b[39m\u001b[38;5;124m'\u001b[39m\u001b[38;5;124mrelu\u001b[39m\u001b[38;5;124m'\u001b[39m),\u001b[38;5;66;03m#(None,64)\u001b[39;00m\n\u001b[1;32m      7\u001b[0m     Dense(\u001b[38;5;241m10\u001b[39m,activation\u001b[38;5;241m=\u001b[39m\u001b[38;5;124m'\u001b[39m\u001b[38;5;124msoftmax\u001b[39m\u001b[38;5;124m'\u001b[39m) \u001b[38;5;66;03m#n(none 10)\u001b[39;00m\n\u001b[1;32m      8\u001b[0m ])\n",
      "\u001b[0;31mNameError\u001b[0m: name 'Sequential' is not defined"
     ]
    }
   ],
   "source": [
    "conv_model=Sequential([\n",
    "    Conv2D(16,(3,3),activation='relu',input_shape=(32,32,3)), #num filters then size conv, output shape (batch size, input-2,,input-2, filers)\n",
    "    #input shape image size then channels\n",
    "    MaxPooling2D((3,3)), #output maps 3x3 into 1 covering image without overlap, then num filters (None, 10,10,16)\n",
    "    Flatten(),#(None, 1600)\n",
    "    Dense(64,activation='relu'),#(None,64)\n",
    "    Dense(10,activation='softmax') #n(none 10)\n",
    "]) #with padding = same the image sizes will not change\n",
    "#can use kernal size pool size if smae dimensions"
   ]
  },
  {
   "cell_type": "code",
   "execution_count": 38,
   "id": "97754d58",
   "metadata": {},
   "outputs": [],
   "source": [
    "conv_model_1=Sequential([\n",
    "    Conv2D(16,(3,3),activation='relu',input_shape=(28,28,1)), \n",
    "    MaxPooling2D((3,3)), \n",
    "    Flatten(),\n",
    "    Dense(10,activation='softmax') #n(none 10)\n",
    "]) #with padding = same the image sizes will not change\n",
    "#can use kernal size pool size if smae dimensions\n",
    "conv_model_1.compile(optimizer='sgd',#can modify parameters by going directly to tf.keras.optimizers.SGD(learning_rates___)\n",
    "             loss='binary_crossentropy',\n",
    "             metrics=['accuracy','mean_average_error','precision','recall'])"
   ]
  },
  {
   "cell_type": "code",
   "execution_count": 13,
   "id": "760ef3ed",
   "metadata": {},
   "outputs": [],
   "source": [
    "#initializing weights and biases\n",
    "model = Sequential([\n",
    "    Conv1D(filters=16, kernel_size=3, input_shape=(128, 64), kernel_initializer='random_uniform', bias_initializer=\"zeros\", activation='relu'),\n",
    "    MaxPooling1D(pool_size=4),\n",
    "    Flatten(),\n",
    "    Dense(64, kernel_initializer='he_uniform', bias_initializer='ones', activation='relu'),\n",
    "])\n",
    "\n",
    "#or\n",
    "model.add(Dense(64, \n",
    "                kernel_initializer=tf.keras.initializers.RandomNormal(mean=0.0, stddev=0.05), \n",
    "                bias_initializer=tf.keras.initializers.Constant(value=0.4), \n",
    "                activation='relu'),)\n",
    "\n",
    "model.add(Dense(8, \n",
    "                kernel_initializer=tf.keras.initializers.Orthogonal(gain=1.0, seed=None), \n",
    "                bias_initializer=tf.keras.initializers.Constant(value=0.4), \n",
    "                activation='relu'))\n",
    "#https://keras.io/initializers/"
   ]
  },
  {
   "cell_type": "markdown",
   "id": "0f0c2c9d",
   "metadata": {},
   "source": [
    "optimizer SGD, activation elu, loss binary crossentropy\n",
    "https://keras.io/api/losses/probabilistic_losses/#binarycrossentropy-class computes cross entropy loss for 0,1 two class\n",
    "SGD is gradient descent with momentum\n",
    "$v=mv- \\alpha g$ where alpha is learning rate \\ \n",
    "$w=w+v$\n",
    "ELU is like relu but allows negative values as low as negative 1 \\\n",
    "$e(z)=z, z>0$ \\\n",
    "$\\alpha (e^z-1),z<0$\\\n",
    "mean absolute error is the average absolute value of error, 'mae'"
   ]
  },
  {
   "cell_type": "code",
   "execution_count": 32,
   "id": "32263712",
   "metadata": {},
   "outputs": [],
   "source": [
    "model = Sequential([\n",
    "     Dense(64,activation='relu',input_shape=(32,)),\n",
    "    Dense(1,activation='sigmoid')])\n",
    "model.compile(optimizer='sgd',#can modify parameters by going directly to tf.keras.optimizers.SGD(learning_rates___)\n",
    "             loss='binary_crossentropy',\n",
    "             metrics=['accuracy','mean_average_error','precision','recall','false_positives'])# can set threshold for binary accuracy etc."
   ]
  },
  {
   "cell_type": "code",
   "execution_count": 17,
   "id": "e916bcc7",
   "metadata": {},
   "outputs": [],
   "source": [
    "from tensorflow.keras.preprocessing import image\n",
    "import matplotlib.pyplot as plot\n",
    "import numpy as np\n",
    "import pandas as pd\n",
    "import tensorflow as tf"
   ]
  },
  {
   "cell_type": "code",
   "execution_count": 8,
   "id": "4f7514c0",
   "metadata": {},
   "outputs": [],
   "source": [
    "fashion_data=tf.keras.datasets.fashion_mnist"
   ]
  },
  {
   "cell_type": "code",
   "execution_count": 9,
   "id": "a143516d",
   "metadata": {},
   "outputs": [
    {
     "name": "stdout",
     "output_type": "stream",
     "text": [
      "Downloading data from https://storage.googleapis.com/tensorflow/tf-keras-datasets/train-labels-idx1-ubyte.gz\n",
      "32768/29515 [=================================] - 0s 1us/step\n",
      "Downloading data from https://storage.googleapis.com/tensorflow/tf-keras-datasets/train-images-idx3-ubyte.gz\n",
      "26427392/26421880 [==============================] - 4s 0us/step\n",
      "Downloading data from https://storage.googleapis.com/tensorflow/tf-keras-datasets/t10k-labels-idx1-ubyte.gz\n",
      "8192/5148 [===============================================] - 0s 0us/step\n",
      "Downloading data from https://storage.googleapis.com/tensorflow/tf-keras-datasets/t10k-images-idx3-ubyte.gz\n",
      "4423680/4422102 [==============================] - 1s 0us/step\n"
     ]
    }
   ],
   "source": [
    "(train_im, train_label),(test_im, test_label )=fashion_data.load_data()"
   ]
  },
  {
   "cell_type": "code",
   "execution_count": 11,
   "id": "b7ca6c15",
   "metadata": {},
   "outputs": [],
   "source": [
    "#rescale\n",
    "train_im=train_im/255.0\n",
    "test_im=test_im/255.0\n"
   ]
  },
  {
   "cell_type": "code",
   "execution_count": 18,
   "id": "78d4222c",
   "metadata": {},
   "outputs": [
    {
     "data": {
      "image/png": "[encoded data removed]",
      "text/plain": [
       "<Figure size 432x288 with 1 Axes>"
      ]
     },
     "metadata": {
      "needs_background": "light"
     },
     "output_type": "display_data"
    }
   ],
   "source": [
    "img=train_im[0,:,:]\n",
    "plot.imshow(img)\n",
    "plot.show()"
   ]
  },
  {
   "cell_type": "code",
   "execution_count": 63,
   "id": "c5b7a709",
   "metadata": {},
   "outputs": [],
   "source": [
    "conv_model_1=Sequential([\n",
    "    Conv2D(16,(3,3),activation='relu',input_shape=(28,28,1)), \n",
    "    MaxPooling2D((3,3)), \n",
    "    Flatten(),\n",
    "    Dense(10,activation='softmax') #n(none 10)\n",
    "]) #with padding = same the image sizes will not change\n",
    "#can use kernal size pool size if smae dimensions\n",
    "conv_model_1.compile(optimizer='adam',#can modify parameters by going directly to tf.keras.optimizers.SGD(learning_rates___)\n",
    "             loss='sparse_categorical_crossentropy',\n",
    "             metrics=['accuracy','mae'])"
   ]
  },
  {
   "cell_type": "code",
   "execution_count": 64,
   "id": "b5bb065e",
   "metadata": {},
   "outputs": [
    {
     "name": "stdout",
     "output_type": "stream",
     "text": [
      "Epoch 1/2\n",
      "235/235 [==============================] - 18s 74ms/step - loss: 2.2771 - accuracy: 0.2279 - mae: 4.4122\n",
      "Epoch 2/2\n",
      "235/235 [==============================] - 18s 78ms/step - loss: 1.9058 - accuracy: 0.6253 - mae: 4.4270\n"
     ]
    }
   ],
   "source": [
    "history=conv_model_1.fit(train_im[...,np.newaxis],train_label,epochs=2,batch_size=256)"
   ]
  },
  {
   "cell_type": "code",
   "execution_count": 71,
   "id": "bced28a4",
   "metadata": {},
   "outputs": [
    {
     "data": {
      "text/plain": [
       "dict_keys(['loss', 'accuracy', 'mae'])"
      ]
     },
     "execution_count": 71,
     "metadata": {},
     "output_type": "execute_result"
    }
   ],
   "source": [
    "type(history.history)\n",
    "history.history.keys()"
   ]
  },
  {
   "cell_type": "code",
   "execution_count": 72,
   "id": "9ca6d0d7",
   "metadata": {},
   "outputs": [
    {
     "data": {
      "text/html": [
       "<div>\n",
       "<style scoped>\n",
       "    .dataframe tbody tr th:only-of-type {\n",
       "        vertical-align: middle;\n",
       "    }\n",
       "\n",
       "    .dataframe tbody tr th {\n",
       "        vertical-align: top;\n",
       "    }\n",
       "\n",
       "    .dataframe thead th {\n",
       "        text-align: right;\n",
       "    }\n",
       "</style>\n",
       "<table border=\"1\" class=\"dataframe\">\n",
       "  <thead>\n",
       "    <tr style=\"text-align: right;\">\n",
       "      <th></th>\n",
       "      <th>loss</th>\n",
       "      <th>accuracy</th>\n",
       "      <th>mae</th>\n",
       "    </tr>\n",
       "  </thead>\n",
       "  <tbody>\n",
       "    <tr>\n",
       "      <th>0</th>\n",
       "      <td>2.222315</td>\n",
       "      <td>0.37765</td>\n",
       "      <td>4.42</td>\n",
       "    </tr>\n",
       "    <tr>\n",
       "      <th>1</th>\n",
       "      <td>1.768426</td>\n",
       "      <td>0.63505</td>\n",
       "      <td>4.42</td>\n",
       "    </tr>\n",
       "  </tbody>\n",
       "</table>\n",
       "</div>"
      ],
      "text/plain": [
       "       loss  accuracy   mae\n",
       "0  2.222315   0.37765  4.42\n",
       "1  1.768426   0.63505  4.42"
      ]
     },
     "execution_count": 72,
     "metadata": {},
     "output_type": "execute_result"
    }
   ],
   "source": [
    "df=pd.DataFrame(history.history)\n",
    "df.head()"
   ]
  },
  {
   "cell_type": "code",
   "execution_count": 66,
   "id": "8fe71762",
   "metadata": {},
   "outputs": [
    {
     "name": "stdout",
     "output_type": "stream",
     "text": [
      "313/313 [==============================] - 2s 5ms/step - loss: 1.5026 - accuracy: 0.6506 - mae: 4.4200\n"
     ]
    }
   ],
   "source": [
    "loss,accuracy,mae=conv_model_1.evaluate(test_im[...,np.newaxis],test_label)"
   ]
  },
  {
   "cell_type": "code",
   "execution_count": 67,
   "id": "94ae2c07",
   "metadata": {},
   "outputs": [
    {
     "data": {
      "text/plain": [
       "(1.5025826692581177, 0.650600016117096, 4.419997215270996)"
      ]
     },
     "execution_count": 67,
     "metadata": {},
     "output_type": "execute_result"
    }
   ],
   "source": [
    "loss,accuracy,mae"
   ]
  },
  {
   "cell_type": "code",
   "execution_count": 69,
   "id": "3d1837e5",
   "metadata": {},
   "outputs": [],
   "source": [
    "pred=conv_model_1.predict(test_im[...,np.newaxis])\n",
    "#expects a batch, so may need to add another axis at the front if only one image"
   ]
  },
  {
   "cell_type": "code",
   "execution_count": 70,
   "id": "56cbbf57",
   "metadata": {},
   "outputs": [
    {
     "data": {
      "text/plain": [
       "(10000, 10)"
      ]
     },
     "execution_count": 70,
     "metadata": {},
     "output_type": "execute_result"
    }
   ],
   "source": [
    "pred.shape"
   ]
  },
  {
   "cell_type": "markdown",
   "id": "e0fef74b",
   "metadata": {},
   "source": [
    "# Week 3"
   ]
  },
  {
   "cell_type": "code",
   "execution_count": 73,
   "id": "51f73340",
   "metadata": {},
   "outputs": [
    {
     "name": "stdout",
     "output_type": "stream",
     "text": [
      "188/188 [==============================] - 16s 86ms/step - loss: 1.3399 - accuracy: 0.6649 - mae: 4.4294 - val_loss: 1.1953 - val_accuracy: 0.6794 - val_mae: 4.3824\n"
     ]
    }
   ],
   "source": [
    "#you can add in validation at trining time\n",
    "history=conv_model_1.fit(train_im[...,np.newaxis],train_label,epochs=1,batch_size=256,validation_split=0.2)\n",
    "#alternatively, can provide selected test sets using the validation data command, validation_data=()"
   ]
  },
  {
   "cell_type": "code",
   "execution_count": 74,
   "id": "458898f8",
   "metadata": {},
   "outputs": [
    {
     "data": {
      "text/html": [
       "<div>\n",
       "<style scoped>\n",
       "    .dataframe tbody tr th:only-of-type {\n",
       "        vertical-align: middle;\n",
       "    }\n",
       "\n",
       "    .dataframe tbody tr th {\n",
       "        vertical-align: top;\n",
       "    }\n",
       "\n",
       "    .dataframe thead th {\n",
       "        text-align: right;\n",
       "    }\n",
       "</style>\n",
       "<table border=\"1\" class=\"dataframe\">\n",
       "  <thead>\n",
       "    <tr style=\"text-align: right;\">\n",
       "      <th></th>\n",
       "      <th>loss</th>\n",
       "      <th>accuracy</th>\n",
       "      <th>mae</th>\n",
       "      <th>val_loss</th>\n",
       "      <th>val_accuracy</th>\n",
       "      <th>val_mae</th>\n",
       "    </tr>\n",
       "  </thead>\n",
       "  <tbody>\n",
       "    <tr>\n",
       "      <th>0</th>\n",
       "      <td>1.339873</td>\n",
       "      <td>0.664896</td>\n",
       "      <td>4.429391</td>\n",
       "      <td>1.195262</td>\n",
       "      <td>0.679417</td>\n",
       "      <td>4.382433</td>\n",
       "    </tr>\n",
       "  </tbody>\n",
       "</table>\n",
       "</div>"
      ],
      "text/plain": [
       "       loss  accuracy       mae  val_loss  val_accuracy   val_mae\n",
       "0  1.339873  0.664896  4.429391  1.195262      0.679417  4.382433"
      ]
     },
     "execution_count": 74,
     "metadata": {},
     "output_type": "execute_result"
    }
   ],
   "source": [
    "df=pd.DataFrame(history.history)\n",
    "df.head()"
   ]
  },
  {
   "cell_type": "markdown",
   "id": "11d8e452",
   "metadata": {},
   "source": [
    "# Loss\n",
    "L2 loss:  $\\hat L(w) =L(w) +\\sum_{i,j}w_{i,j}^2$ \n",
    "so $W \\leftarrow (1-\\epsilon \\alpha)W -\\epsilon \\nabla L(W)$, resulting in additional shrinking of W. \\\n",
    "In L1, the square is replaced by the absolute value"
   ]
  },
  {
   "cell_type": "code",
   "execution_count": 77,
   "id": "251980dd",
   "metadata": {},
   "outputs": [],
   "source": [
    "reg=tf.keras.regularizers.l2(.001)\n",
    "#can also do l1 and l2\n",
    "#can also add a biar regulirizer\n",
    "#can also do dropout, including dropout as a layer, with drop out rate.\n",
    "#at training time, you use dropout, but no dropoit when you do evaluate and predict.\n"
   ]
  },
  {
   "cell_type": "code",
   "execution_count": 81,
   "id": "718403c9",
   "metadata": {},
   "outputs": [],
   "source": [
    "from tensorflow.keras.layers import Dropout,Dense\n",
    "from tensorflow.keras import regularizers\n"
   ]
  },
  {
   "cell_type": "code",
   "execution_count": 83,
   "id": "083bc493",
   "metadata": {},
   "outputs": [],
   "source": [
    "wd=.0001\n",
    "rate=.3\n",
    "reg_model=Sequential([\n",
    "    Dense(128,kernel_regularizer=regularizers.l2(wd),activation='relu'),\n",
    "    Dropout(rate),\n",
    "    Dense(128,kernel_regularizer=regularizers.l2(wd),activation='relu'),\n",
    "    Dropout(rate),\n",
    "    Dense(128,kernel_regularizer=regularizers.l2(wd),activation='relu'),\n",
    "    Dropout(rate),\n",
    "    Dense(128,kernel_regularizer=regularizers.l2(wd),activation='relu'),\n",
    "    Dropout(rate),\n",
    "    Dense(128,kernel_regularizer=regularizers.l2(wd),activation='relu'),\n",
    "    Dropout(rate),\n",
    "    Dense(1),  \n",
    "])\n"
   ]
  },
  {
   "cell_type": "code",
   "execution_count": 85,
   "id": "d0f951c3",
   "metadata": {},
   "outputs": [],
   "source": [
    "reg_model.compile(optimizer='adam',#can modify parameters by going directly to tf.keras.optimizers.SGD(learning_rates___)\n",
    "             loss='sparse_categorical_crossentropy',\n",
    "             metrics=['accuracy','mae'])\n",
    "#can also do batch normalizattion with tf.keras.layers.BatchNormalization()."
   ]
  }
 ],
 "metadata": {
  "kernelspec": {
   "display_name": "Python 3 (ipykernel)",
   "language": "python",
   "name": "python3"
  },
  "language_info": {
   "codemirror_mode": {
    "name": "ipython",
    "version": 3
   },
   "file_extension": ".py",
   "mimetype": "text/x-python",
   "name": "python",
   "nbconvert_exporter": "python",
   "pygments_lexer": "ipython3",
   "version": "3.9.12"
  }
 },
 "nbformat": 4,
 "nbformat_minor": 5
}
