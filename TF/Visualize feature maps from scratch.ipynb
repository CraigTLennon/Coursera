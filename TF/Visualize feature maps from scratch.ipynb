{
 "cells": [
  {
   "cell_type": "code",
   "execution_count": null,
   "id": "e8a2a6dd",
   "metadata": {},
   "outputs": [],
   "source": []
  },
  {
   "cell_type": "code",
   "execution_count": null,
   "id": "4139e57d",
   "metadata": {},
   "outputs": [],
   "source": []
  },
  {
   "cell_type": "code",
   "execution_count": null,
   "id": "e65643bf",
   "metadata": {},
   "outputs": [],
   "source": []
  },
  {
   "cell_type": "code",
   "execution_count": null,
   "id": "3e306abe",
   "metadata": {},
   "outputs": [],
   "source": [
    "#display image\n",
    "for layer_name, feature_map in zip(layer_names, feature_maps):  if len(feature_map.shape) == 4\n",
    "      k = feature_map.shape[-1]  \n",
    "      size=feature_map.shape[1]\n",
    "      for i in range(k):\n",
    "        feature_image = feature_map[0, :, :, i]\n",
    "        feature_image-= feature_image.mean()\n",
    "        feature_image/= feature_image.std ()\n",
    "        feature_image*=  64\n",
    "        feature_image+= 128\n",
    "        feature_image= np.clip(x, 0, 255).astype('uint8')\n",
    "        image_belt[:, i * size : (i + 1) * size] = feature_image   \n",
    "    scale = 20. / k\n",
    "    plt.figure( figsize=(scale * k, scale) )\n",
    "    plt.title ( layer_name )\n",
    "    plt.grid  ( False )\n",
    "    plt.imshow( image_belt, aspect='auto')"
   ]
  }
 ],
 "metadata": {
  "kernelspec": {
   "display_name": "Python 3 (ipykernel)",
   "language": "python",
   "name": "python3"
  },
  "language_info": {
   "codemirror_mode": {
    "name": "ipython",
    "version": 3
   },
   "file_extension": ".py",
   "mimetype": "text/x-python",
   "name": "python",
   "nbconvert_exporter": "python",
   "pygments_lexer": "ipython3",
   "version": "3.9.12"
  }
 },
 "nbformat": 4,
 "nbformat_minor": 5
}
