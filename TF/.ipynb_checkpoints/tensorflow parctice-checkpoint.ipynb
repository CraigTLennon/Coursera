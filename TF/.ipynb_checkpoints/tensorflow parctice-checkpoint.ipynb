{
 "cells": [
  {
   "cell_type": "markdown",
   "id": "84806288",
   "metadata": {},
   "source": [
    "Tensorflow practice from coursera imperial college london"
   ]
  },
  {
   "cell_type": "code",
   "execution_count": 12,
   "id": "e73dcc0e",
   "metadata": {},
   "outputs": [
    {
     "data": {
      "text/plain": [
       "'2.4.1'"
      ]
     },
     "execution_count": 12,
     "metadata": {},
     "output_type": "execute_result"
    }
   ],
   "source": [
    "import tensorflow as tf\n",
    "import numpy as np\n",
    "tf.__version__"
   ]
  },
  {
   "cell_type": "markdown",
   "id": "cb0f5eb7",
   "metadata": {},
   "source": [
    "Week 1"
   ]
  },
  {
   "cell_type": "code",
   "execution_count": 6,
   "id": "9eaa9779",
   "metadata": {},
   "outputs": [],
   "source": [
    "mnist_data='/home/craig/Documents/coursera/TF/imperial_1/1/tutorials/data/mnist.csv'\n",
    "data=np.loadtxt(mnist_data,delimiter=',')"
   ]
  },
  {
   "cell_type": "code",
   "execution_count": 7,
   "id": "7086ade4",
   "metadata": {},
   "outputs": [
    {
     "data": {
      "text/plain": [
       "(60000, 785)"
      ]
     },
     "execution_count": 7,
     "metadata": {},
     "output_type": "execute_result"
    }
   ],
   "source": [
    "data.shape"
   ]
  },
  {
   "cell_type": "code",
   "execution_count": 9,
   "id": "084f8017",
   "metadata": {},
   "outputs": [],
   "source": [
    "x_train=data[:,1:]\n",
    "y_train=data[:,0]\n",
    "x_train=x_train/255.0"
   ]
  },
  {
   "cell_type": "markdown",
   "id": "61c80860",
   "metadata": {},
   "source": [
    "Adam optimizer(https://arxiv.org/pdf/1412.6980.pdf):\n",
    "Uses a momentum term $m_t$ at time step t, with weights at time t being $w_t$, along with a learning rate (step size) and two decay rates, respectively (with recommended defaults) $\\alpha=.001, \\beta_1=.9, \\beta_2=.999,\\epsilon=10*{-8}$.  The optimization function is $f$. \\\n",
    "$g \\leftarrow \\nabla_w f(w)$ get gradients \\\n",
    "$m \\leftarrow \\beta_1 m +(1-\\beta_2)g$ update biased first moment \\\n",
    "$v \\leftarrow \\beta_2 v +(1-\\beta_2)g^2$ update biased second moment \\\n",
    "$m \\leftarrow m/(1-\\beta_1)$ bias corrected first moment \\\n",
    "$v \\leftarrow m/(1-\\beta_2)$ bias corrected second moment \\\n",
    "$w \\leftarrow w -\\alpha m/(\\sqrt{v} +\\epsilon)$ update weights \n",
    "\n",
    "Use sparse categorical cross entropy when labels are integers, categorical when labels are one hot encoded.\n",
    "Accuracy is what proportion of predictions are equal to labels.\n"
   ]
  },
  {
   "cell_type": "code",
   "execution_count": 12,
   "id": "f21df73c",
   "metadata": {},
   "outputs": [],
   "source": [
    "model=tf.keras.models.Sequential([\n",
    "    tf.keras.layers.Dense(16,activation='relu'),\n",
    "    tf.keras.layers.Dense(10,activation='softmax')\n",
    "])\n",
    "model.compile(optimizer='adam',\n",
    "              loss='sparse_categorical_crossentropy',\n",
    "              metrics=['accuracy'])"
   ]
  },
  {
   "cell_type": "code",
   "execution_count": 18,
   "id": "d27afe1f",
   "metadata": {},
   "outputs": [],
   "source": [
    "#alternatively\n",
    "model=tf.keras.models.Sequential()\n",
    "model.add(tf.keras.layers.Dense(16,activation='relu')) # can add input shape if desired, \n",
    "#Flattern layer unrolls a multi dim tensor into a vector\n",
    "model.add(tf.keras.layers.Dense(10,activation='softmax'))\n",
    "model.compile(optimizer='adam',\n",
    "              loss='sparse_categorical_crossentropy',\n",
    "              metrics=['accuracy'])"
   ]
  },
  {
   "cell_type": "code",
   "execution_count": 19,
   "id": "ee9017b2",
   "metadata": {},
   "outputs": [
    {
     "name": "stdout",
     "output_type": "stream",
     "text": [
      "Epoch 1/3\n",
      "1875/1875 [==============================] - 16s 8ms/step - loss: 0.7419 - accuracy: 0.7821\n",
      "Epoch 2/3\n",
      "1875/1875 [==============================] - 20s 11ms/step - loss: 0.2656 - accuracy: 0.9241\n",
      "Epoch 3/3\n",
      "1875/1875 [==============================] - 19s 10ms/step - loss: 0.2182 - accuracy: 0.9384\n"
     ]
    },
    {
     "data": {
      "text/plain": [
       "<tensorflow.python.keras.callbacks.History at 0x7ff46c159820>"
      ]
     },
     "execution_count": 19,
     "metadata": {},
     "output_type": "execute_result"
    }
   ],
   "source": [
    "model.fit(x_train,y_train,epochs=3,batch_size=32)\n"
   ]
  },
  {
   "cell_type": "markdown",
   "id": "0a207b18",
   "metadata": {},
   "source": [
    "Week 2:  Sequential models"
   ]
  },
  {
   "cell_type": "code",
   "execution_count": 10,
   "id": "03e5e0ba",
   "metadata": {},
   "outputs": [],
   "source": [
    "from tensorflow.keras.models import Sequential\n",
    "from tensorflow.keras.layers import Dense, Flatten, Softmax,Conv2D,MaxPooling2D,Conv1D,MaxPooling1D"
   ]
  },
  {
   "cell_type": "code",
   "execution_count": 29,
   "id": "f4773d24",
   "metadata": {},
   "outputs": [
    {
     "name": "stdout",
     "output_type": "stream",
     "text": [
      "Model: \"sequential_11\"\n",
      "_________________________________________________________________\n",
      "Layer (type)                 Output Shape              Param #   \n",
      "=================================================================\n",
      "flatten_4 (Flatten)          (None, 784)               0         \n",
      "_________________________________________________________________\n",
      "cool_layer (Dense)           (None, 16)                12560     \n",
      "_________________________________________________________________\n",
      "dense_28 (Dense)             (None, 16)                272       \n",
      "_________________________________________________________________\n",
      "dense_29 (Dense)             (None, 10)                170       \n",
      "=================================================================\n",
      "Total params: 13,002\n",
      "Trainable params: 13,002\n",
      "Non-trainable params: 0\n",
      "_________________________________________________________________\n"
     ]
    }
   ],
   "source": [
    "#feed forward  Weights are created when input layer provided (e.g via flatten or other)\n",
    "model=Sequential([\n",
    "    Flatten(input_shape=(28,28)),\n",
    "    tf.keras.layers.Dense(16,activation='relu',name='cool_layer'),\n",
    "    tf.keras.layers.Dense(16,activation='relu'),\n",
    "    tf.keras.layers.Dense(10,activation='softmax')\n",
    "])\n",
    "#model.weights\n",
    "model.summary()"
   ]
  },
  {
   "cell_type": "code",
   "execution_count": 4,
   "id": "6541f5b5",
   "metadata": {},
   "outputs": [
    {
     "name": "stderr",
     "output_type": "stream",
     "text": [
      "2022-05-20 13:20:33.471339: I tensorflow/compiler/jit/xla_cpu_device.cc:41] Not creating XLA devices, tf_xla_enable_xla_devices not set\n",
      "2022-05-20 13:20:33.471608: I tensorflow/core/platform/cpu_feature_guard.cc:142] This TensorFlow binary is optimized with oneAPI Deep Neural Network Library (oneDNN) to use the following CPU instructions in performance-critical operations:  SSE4.1 SSE4.2 AVX AVX2 FMA\n",
      "To enable them in other operations, rebuild TensorFlow with the appropriate compiler flags.\n",
      "2022-05-20 13:20:33.472510: I tensorflow/core/common_runtime/process_util.cc:146] Creating new thread pool with default inter op setting: 2. Tune using inter_op_parallelism_threads for best performance.\n"
     ]
    }
   ],
   "source": [
    "conv_model=Sequential([\n",
    "    Conv2D(16,(3,3),activation='relu',input_shape=(32,32,3)), #num filters then size conv, output shape (batch size, input-2,,input-2, filers)\n",
    "    #input shape image size then channels\n",
    "    MaxPooling2D((3,3)), #output maps 3x3 into 1 covering image without overlap, then num filters (None, 10,10,16)\n",
    "    Flatten(),#(None, 1600)\n",
    "    Dense(64,activation='relu'),#(None,64)\n",
    "    Dense(10,activation='softmax') #n(none 10)\n",
    "]) #with padding = same the image sizes will not change\n",
    "#can use kernal size pool size if smae dimensions"
   ]
  },
  {
   "cell_type": "code",
   "execution_count": 5,
   "id": "97754d58",
   "metadata": {},
   "outputs": [],
   "source": [
    "conv_model=Sequential([\n",
    "    Conv2D(16,(3,3),activation='relu',input_shape=(28,28,1)), \n",
    "    MaxPooling2D((3,3)), \n",
    "    Flatten(),\n",
    "    Dense(10,activation='softmax') #n(none 10)\n",
    "]) #with padding = same the image sizes will not change\n",
    "#can use kernal size pool size if smae dimensions"
   ]
  },
  {
   "cell_type": "code",
   "execution_count": 13,
   "id": "760ef3ed",
   "metadata": {},
   "outputs": [],
   "source": [
    "#initializing weights and biases\n",
    "model = Sequential([\n",
    "    Conv1D(filters=16, kernel_size=3, input_shape=(128, 64), kernel_initializer='random_uniform', bias_initializer=\"zeros\", activation='relu'),\n",
    "    MaxPooling1D(pool_size=4),\n",
    "    Flatten(),\n",
    "    Dense(64, kernel_initializer='he_uniform', bias_initializer='ones', activation='relu'),\n",
    "])\n",
    "\n",
    "#or\n",
    "model.add(Dense(64, \n",
    "                kernel_initializer=tf.keras.initializers.RandomNormal(mean=0.0, stddev=0.05), \n",
    "                bias_initializer=tf.keras.initializers.Constant(value=0.4), \n",
    "                activation='relu'),)\n",
    "\n",
    "model.add(Dense(8, \n",
    "                kernel_initializer=tf.keras.initializers.Orthogonal(gain=1.0, seed=None), \n",
    "                bias_initializer=tf.keras.initializers.Constant(value=0.4), \n",
    "                activation='relu'))\n",
    "#https://keras.io/initializers/"
   ]
  },
  {
   "cell_type": "markdown",
   "id": "0f0c2c9d",
   "metadata": {},
   "source": [
    "optimizer SGD, activation elu, loss binary crossentropy\n",
    "https://keras.io/api/losses/probabilistic_losses/#binarycrossentropy-class computes cross entropy loss for 0,1 two class\n",
    "SGD is gradient descent with momentum\n",
    "$v=mv- \\alpha g$ where alpha is learning rate \\ \n",
    "$w=w+v$\n",
    "ELU is like relu but allows negative values as low as negative 1 \\\n",
    "$e(z)=z, z>0$ \\\n",
    "$\\alpha (e^z-1),z<0$\\\n",
    "mean absolute error is the average absolute value of error, 'mae'"
   ]
  },
  {
   "cell_type": "code",
   "execution_count": 14,
   "id": "32263712",
   "metadata": {},
   "outputs": [],
   "source": [
    "model = Sequential([\n",
    "     Dense(64,activation='relu',input_shape=(32,)),\n",
    "    Dense(1,activation='sigmoid')])\n",
    "model.compile(optimizer='sgd',#can modify parameters by going directly to tf.keras.optimizers.SGD(learning_rates___)\n",
    "             loss='binary_crossentropy',\n",
    "             metrics=['accuracy','mae'])# can set threshold for binary accuracy etc."
   ]
  }
 ],
 "metadata": {
  "kernelspec": {
   "display_name": "Python 3 (ipykernel)",
   "language": "python",
   "name": "python3"
  },
  "language_info": {
   "codemirror_mode": {
    "name": "ipython",
    "version": 3
   },
   "file_extension": ".py",
   "mimetype": "text/x-python",
   "name": "python",
   "nbconvert_exporter": "python",
   "pygments_lexer": "ipython3",
   "version": "3.9.12"
  }
 },
 "nbformat": 4,
 "nbformat_minor": 5
}
