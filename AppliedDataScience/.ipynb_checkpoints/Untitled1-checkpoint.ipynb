{
 "cells": [
  {
   "cell_type": "code",
   "execution_count": 1,
   "metadata": {
    "collapsed": true
   },
   "outputs": [],
   "source": [
    "import pandas as pd\n",
    "import numpy as np\n",
    "allData=pd.read_csv(\"C:/Users/cLennon/workspace/mmFacs/analysis_b7d7g.csv\")"
   ]
  },
  {
   "cell_type": "code",
   "execution_count": 5,
   "metadata": {
    "collapsed": false
   },
   "outputs": [
    {
     "data": {
      "text/html": [
       "<div>\n",
       "<table border=\"1\" class=\"dataframe\">\n",
       "  <thead>\n",
       "    <tr style=\"text-align: right;\">\n",
       "      <th></th>\n",
       "      <th>reward.lo</th>\n",
       "      <th>reward.hi</th>\n",
       "      <th>tmp</th>\n",
       "      <th>egs</th>\n",
       "      <th>alpha</th>\n",
       "      <th>bll</th>\n",
       "      <th>ans</th>\n",
       "      <th>mas</th>\n",
       "      <th>chunk-count</th>\n",
       "    </tr>\n",
       "  </thead>\n",
       "  <tbody>\n",
       "    <tr>\n",
       "      <th>0</th>\n",
       "      <td>-1</td>\n",
       "      <td>10</td>\n",
       "      <td>10</td>\n",
       "      <td>1.0</td>\n",
       "      <td>0.2</td>\n",
       "      <td>nil</td>\n",
       "      <td>0.25</td>\n",
       "      <td>10</td>\n",
       "      <td>10161</td>\n",
       "    </tr>\n",
       "    <tr>\n",
       "      <th>1</th>\n",
       "      <td>-1</td>\n",
       "      <td>10</td>\n",
       "      <td>10</td>\n",
       "      <td>1.0</td>\n",
       "      <td>0.2</td>\n",
       "      <td>nil</td>\n",
       "      <td>0.25</td>\n",
       "      <td>10</td>\n",
       "      <td>10160</td>\n",
       "    </tr>\n",
       "    <tr>\n",
       "      <th>2</th>\n",
       "      <td>-1</td>\n",
       "      <td>10</td>\n",
       "      <td>10</td>\n",
       "      <td>1.0</td>\n",
       "      <td>0.2</td>\n",
       "      <td>nil</td>\n",
       "      <td>0.25</td>\n",
       "      <td>10</td>\n",
       "      <td>10159</td>\n",
       "    </tr>\n",
       "  </tbody>\n",
       "</table>\n",
       "</div>"
      ],
      "text/plain": [
       "   reward.lo  reward.hi  tmp  egs  alpha  bll   ans  mas  chunk-count\n",
       "0         -1         10   10  1.0    0.2  nil  0.25   10        10161\n",
       "1         -1         10   10  1.0    0.2  nil  0.25   10        10160\n",
       "2         -1         10   10  1.0    0.2  nil  0.25   10        10159"
      ]
     },
     "execution_count": 5,
     "metadata": {},
     "output_type": "execute_result"
    }
   ],
   "source": [
    "allData.iloc[0:3,1:10]"
   ]
  },
  {
   "cell_type": "code",
   "execution_count": 6,
   "metadata": {
    "collapsed": false
   },
   "outputs": [
    {
     "data": {
      "text/html": [
       "<div>\n",
       "<table border=\"1\" class=\"dataframe\">\n",
       "  <thead>\n",
       "    <tr style=\"text-align: right;\">\n",
       "      <th></th>\n",
       "      <th>fcount</th>\n",
       "      <th>chunk</th>\n",
       "      <th>rt</th>\n",
       "      <th>times</th>\n",
       "      <th>utilities</th>\n",
       "    </tr>\n",
       "  </thead>\n",
       "  <tbody>\n",
       "    <tr>\n",
       "      <th>0</th>\n",
       "      <td>7</td>\n",
       "      <td>AU43 AU43-0 AU38 AU38-0 AU22 AU22-0 AU12 AU12-...</td>\n",
       "      <td>1.050781</td>\n",
       "      <td>31900.164 31900.414 31900.465 31900.514 31900....</td>\n",
       "      <td>5.187492 5.437492 8.198252 0.1817554 8.145067 ...</td>\n",
       "    </tr>\n",
       "    <tr>\n",
       "      <th>1</th>\n",
       "      <td>5</td>\n",
       "      <td>AU45 AU45-0 AU39 AU39-0 AU34 AU34-0 AU27 AU27-...</td>\n",
       "      <td>0.849609</td>\n",
       "      <td>31899.215 31899.465 31899.514 31899.564 31899....</td>\n",
       "      <td>5.187492 5.437492 8.446661 0 8.201254 2.277918...</td>\n",
       "    </tr>\n",
       "    <tr>\n",
       "      <th>2</th>\n",
       "      <td>6</td>\n",
       "      <td>AU64 AU64-0 AU38 AU38-0 AU30 AU30-0 AU20 AU20-...</td>\n",
       "      <td>0.949219</td>\n",
       "      <td>31898.164 31898.414 31898.465 31898.514 31898....</td>\n",
       "      <td>5.187492 5.437492 8.164805 0 7.401713 9.631882...</td>\n",
       "    </tr>\n",
       "  </tbody>\n",
       "</table>\n",
       "</div>"
      ],
      "text/plain": [
       "   fcount                                              chunk        rt  \\\n",
       "0       7  AU43 AU43-0 AU38 AU38-0 AU22 AU22-0 AU12 AU12-...  1.050781   \n",
       "1       5  AU45 AU45-0 AU39 AU39-0 AU34 AU34-0 AU27 AU27-...  0.849609   \n",
       "2       6  AU64 AU64-0 AU38 AU38-0 AU30 AU30-0 AU20 AU20-...  0.949219   \n",
       "\n",
       "                                               times  \\\n",
       "0  31900.164 31900.414 31900.465 31900.514 31900....   \n",
       "1  31899.215 31899.465 31899.514 31899.564 31899....   \n",
       "2  31898.164 31898.414 31898.465 31898.514 31898....   \n",
       "\n",
       "                                           utilities  \n",
       "0  5.187492 5.437492 8.198252 0.1817554 8.145067 ...  \n",
       "1  5.187492 5.437492 8.446661 0 8.201254 2.277918...  \n",
       "2  5.187492 5.437492 8.164805 0 7.401713 9.631882...  "
      ]
     },
     "execution_count": 6,
     "metadata": {},
     "output_type": "execute_result"
    }
   ],
   "source": [
    "allData.iloc[0:3,10:15]"
   ]
  },
  {
   "cell_type": "code",
   "execution_count": 7,
   "metadata": {
    "collapsed": false
   },
   "outputs": [
    {
     "data": {
      "text/html": [
       "<div>\n",
       "<table border=\"1\" class=\"dataframe\">\n",
       "  <thead>\n",
       "    <tr style=\"text-align: right;\">\n",
       "      <th></th>\n",
       "      <th>productions</th>\n",
       "      <th>hypotheses</th>\n",
       "      <th>correct</th>\n",
       "      <th>response</th>\n",
       "      <th>model</th>\n",
       "    </tr>\n",
       "  </thead>\n",
       "  <tbody>\n",
       "    <tr>\n",
       "      <th>0</th>\n",
       "      <td>DETECT-EXEMPLAR GUESS-CATEGORY ENCODE-AU10-OF-...</td>\n",
       "      <td>SURPRISE SURPRISE SURPRISE DISGUST DISGUST DIS...</td>\n",
       "      <td>t</td>\n",
       "      <td>disgust</td>\n",
       "      <td>b7d7g</td>\n",
       "    </tr>\n",
       "    <tr>\n",
       "      <th>1</th>\n",
       "      <td>DETECT-EXEMPLAR GUESS-CATEGORY ENCODE-AU27-OF-...</td>\n",
       "      <td>SURPRISE DISGUST DISGUST DISGUST DISGUST DISGUST</td>\n",
       "      <td>nil</td>\n",
       "      <td>disgust</td>\n",
       "      <td>b7d7g</td>\n",
       "    </tr>\n",
       "    <tr>\n",
       "      <th>2</th>\n",
       "      <td>DETECT-EXEMPLAR GUESS-CATEGORY ENCODE-AU2-OF-S...</td>\n",
       "      <td>SURPRISE DISGUST DISGUST DISGUST DISGUST DISGU...</td>\n",
       "      <td>nil</td>\n",
       "      <td>disgust</td>\n",
       "      <td>b7d7g</td>\n",
       "    </tr>\n",
       "  </tbody>\n",
       "</table>\n",
       "</div>"
      ],
      "text/plain": [
       "                                         productions  \\\n",
       "0  DETECT-EXEMPLAR GUESS-CATEGORY ENCODE-AU10-OF-...   \n",
       "1  DETECT-EXEMPLAR GUESS-CATEGORY ENCODE-AU27-OF-...   \n",
       "2  DETECT-EXEMPLAR GUESS-CATEGORY ENCODE-AU2-OF-S...   \n",
       "\n",
       "                                          hypotheses correct response  model  \n",
       "0  SURPRISE SURPRISE SURPRISE DISGUST DISGUST DIS...       t  disgust  b7d7g  \n",
       "1   SURPRISE DISGUST DISGUST DISGUST DISGUST DISGUST     nil  disgust  b7d7g  \n",
       "2  SURPRISE DISGUST DISGUST DISGUST DISGUST DISGU...     nil  disgust  b7d7g  "
      ]
     },
     "execution_count": 7,
     "metadata": {},
     "output_type": "execute_result"
    }
   ],
   "source": [
    "allData.iloc[0:3,15:20]"
   ]
  },
  {
   "cell_type": "code",
   "execution_count": 9,
   "metadata": {
    "collapsed": false
   },
   "outputs": [
    {
     "data": {
      "text/html": [
       "<div>\n",
       "<table border=\"1\" class=\"dataframe\">\n",
       "  <thead>\n",
       "    <tr style=\"text-align: right;\">\n",
       "      <th></th>\n",
       "      <th>trial</th>\n",
       "      <th>au64</th>\n",
       "      <th>au63</th>\n",
       "      <th>au62</th>\n",
       "      <th>au61</th>\n",
       "    </tr>\n",
       "  </thead>\n",
       "  <tbody>\n",
       "    <tr>\n",
       "      <th>0</th>\n",
       "      <td>10000</td>\n",
       "      <td>0</td>\n",
       "      <td>0</td>\n",
       "      <td>0</td>\n",
       "      <td>0</td>\n",
       "    </tr>\n",
       "    <tr>\n",
       "      <th>1</th>\n",
       "      <td>9999</td>\n",
       "      <td>0</td>\n",
       "      <td>0</td>\n",
       "      <td>0</td>\n",
       "      <td>0</td>\n",
       "    </tr>\n",
       "    <tr>\n",
       "      <th>2</th>\n",
       "      <td>9998</td>\n",
       "      <td>0</td>\n",
       "      <td>0</td>\n",
       "      <td>0</td>\n",
       "      <td>0</td>\n",
       "    </tr>\n",
       "  </tbody>\n",
       "</table>\n",
       "</div>"
      ],
      "text/plain": [
       "   trial  au64  au63  au62  au61\n",
       "0  10000     0     0     0     0\n",
       "1   9999     0     0     0     0\n",
       "2   9998     0     0     0     0"
      ]
     },
     "execution_count": 9,
     "metadata": {},
     "output_type": "execute_result"
    }
   ],
   "source": [
    "allData.iloc[0:3,20:25]"
   ]
  },
  {
   "cell_type": "code",
   "execution_count": 12,
   "metadata": {
    "collapsed": false
   },
   "outputs": [
    {
     "data": {
      "text/html": [
       "<div>\n",
       "<table border=\"1\" class=\"dataframe\">\n",
       "  <thead>\n",
       "    <tr style=\"text-align: right;\">\n",
       "      <th></th>\n",
       "      <th>au54</th>\n",
       "      <th>au45</th>\n",
       "      <th>au44</th>\n",
       "      <th>au43</th>\n",
       "      <th>au39</th>\n",
       "      <th>au38</th>\n",
       "      <th>au34</th>\n",
       "      <th>au31</th>\n",
       "      <th>au30</th>\n",
       "      <th>au29</th>\n",
       "      <th>au28</th>\n",
       "      <th>au27</th>\n",
       "      <th>au26</th>\n",
       "      <th>au25</th>\n",
       "      <th>au24</th>\n",
       "    </tr>\n",
       "  </thead>\n",
       "  <tbody>\n",
       "    <tr>\n",
       "      <th>0</th>\n",
       "      <td>0</td>\n",
       "      <td>0</td>\n",
       "      <td>0</td>\n",
       "      <td>0</td>\n",
       "      <td>0</td>\n",
       "      <td>0</td>\n",
       "      <td>0</td>\n",
       "      <td>0</td>\n",
       "      <td>0</td>\n",
       "      <td>0</td>\n",
       "      <td>0</td>\n",
       "      <td>0</td>\n",
       "      <td>0</td>\n",
       "      <td>0</td>\n",
       "      <td>0</td>\n",
       "    </tr>\n",
       "    <tr>\n",
       "      <th>1</th>\n",
       "      <td>0</td>\n",
       "      <td>0</td>\n",
       "      <td>0</td>\n",
       "      <td>0</td>\n",
       "      <td>0</td>\n",
       "      <td>0</td>\n",
       "      <td>0</td>\n",
       "      <td>0</td>\n",
       "      <td>0</td>\n",
       "      <td>0</td>\n",
       "      <td>0</td>\n",
       "      <td>0</td>\n",
       "      <td>0</td>\n",
       "      <td>0</td>\n",
       "      <td>0</td>\n",
       "    </tr>\n",
       "    <tr>\n",
       "      <th>2</th>\n",
       "      <td>0</td>\n",
       "      <td>0</td>\n",
       "      <td>0</td>\n",
       "      <td>0</td>\n",
       "      <td>0</td>\n",
       "      <td>0</td>\n",
       "      <td>0</td>\n",
       "      <td>0</td>\n",
       "      <td>0</td>\n",
       "      <td>0</td>\n",
       "      <td>0</td>\n",
       "      <td>0</td>\n",
       "      <td>0</td>\n",
       "      <td>1</td>\n",
       "      <td>0</td>\n",
       "    </tr>\n",
       "  </tbody>\n",
       "</table>\n",
       "</div>"
      ],
      "text/plain": [
       "   au54  au45  au44  au43  au39  au38  au34  au31  au30  au29  au28  au27  \\\n",
       "0     0     0     0     0     0     0     0     0     0     0     0     0   \n",
       "1     0     0     0     0     0     0     0     0     0     0     0     0   \n",
       "2     0     0     0     0     0     0     0     0     0     0     0     0   \n",
       "\n",
       "   au26  au25  au24  \n",
       "0     0     0     0  \n",
       "1     0     0     0  \n",
       "2     0     1     0  "
      ]
     },
     "execution_count": 12,
     "metadata": {},
     "output_type": "execute_result"
    }
   ],
   "source": [
    "allData.iloc[0:3,25:40]"
   ]
  },
  {
   "cell_type": "code",
   "execution_count": 13,
   "metadata": {
    "collapsed": false
   },
   "outputs": [
    {
     "data": {
      "text/html": [
       "<div>\n",
       "<table border=\"1\" class=\"dataframe\">\n",
       "  <thead>\n",
       "    <tr style=\"text-align: right;\">\n",
       "      <th></th>\n",
       "      <th>au23</th>\n",
       "      <th>au22</th>\n",
       "      <th>au21</th>\n",
       "      <th>au20</th>\n",
       "      <th>au18</th>\n",
       "      <th>au17</th>\n",
       "      <th>au16</th>\n",
       "      <th>au15</th>\n",
       "      <th>au14</th>\n",
       "      <th>au13</th>\n",
       "      <th>au12</th>\n",
       "      <th>au11</th>\n",
       "      <th>au10</th>\n",
       "      <th>au9</th>\n",
       "      <th>au7</th>\n",
       "    </tr>\n",
       "  </thead>\n",
       "  <tbody>\n",
       "    <tr>\n",
       "      <th>0</th>\n",
       "      <td>0</td>\n",
       "      <td>0</td>\n",
       "      <td>0</td>\n",
       "      <td>0</td>\n",
       "      <td>0</td>\n",
       "      <td>1</td>\n",
       "      <td>0</td>\n",
       "      <td>0</td>\n",
       "      <td>0</td>\n",
       "      <td>0</td>\n",
       "      <td>0</td>\n",
       "      <td>0</td>\n",
       "      <td>0</td>\n",
       "      <td>1</td>\n",
       "      <td>0</td>\n",
       "    </tr>\n",
       "    <tr>\n",
       "      <th>1</th>\n",
       "      <td>0</td>\n",
       "      <td>0</td>\n",
       "      <td>0</td>\n",
       "      <td>0</td>\n",
       "      <td>0</td>\n",
       "      <td>1</td>\n",
       "      <td>0</td>\n",
       "      <td>1</td>\n",
       "      <td>1</td>\n",
       "      <td>0</td>\n",
       "      <td>0</td>\n",
       "      <td>0</td>\n",
       "      <td>0</td>\n",
       "      <td>0</td>\n",
       "      <td>0</td>\n",
       "    </tr>\n",
       "    <tr>\n",
       "      <th>2</th>\n",
       "      <td>0</td>\n",
       "      <td>0</td>\n",
       "      <td>0</td>\n",
       "      <td>0</td>\n",
       "      <td>0</td>\n",
       "      <td>0</td>\n",
       "      <td>0</td>\n",
       "      <td>0</td>\n",
       "      <td>0</td>\n",
       "      <td>0</td>\n",
       "      <td>1</td>\n",
       "      <td>0</td>\n",
       "      <td>0</td>\n",
       "      <td>0</td>\n",
       "      <td>0</td>\n",
       "    </tr>\n",
       "  </tbody>\n",
       "</table>\n",
       "</div>"
      ],
      "text/plain": [
       "   au23  au22  au21  au20  au18  au17  au16  au15  au14  au13  au12  au11  \\\n",
       "0     0     0     0     0     0     1     0     0     0     0     0     0   \n",
       "1     0     0     0     0     0     1     0     1     1     0     0     0   \n",
       "2     0     0     0     0     0     0     0     0     0     0     1     0   \n",
       "\n",
       "   au10  au9  au7  \n",
       "0     0    1    0  \n",
       "1     0    0    0  \n",
       "2     0    0    0  "
      ]
     },
     "execution_count": 13,
     "metadata": {},
     "output_type": "execute_result"
    }
   ],
   "source": [
    "allData.iloc[0:3,40:55]"
   ]
  },
  {
   "cell_type": "code",
   "execution_count": 14,
   "metadata": {
    "collapsed": false
   },
   "outputs": [
    {
     "data": {
      "text/html": [
       "<div>\n",
       "<table border=\"1\" class=\"dataframe\">\n",
       "  <thead>\n",
       "    <tr style=\"text-align: right;\">\n",
       "      <th></th>\n",
       "      <th>au6</th>\n",
       "      <th>au5</th>\n",
       "      <th>au4</th>\n",
       "      <th>au2</th>\n",
       "      <th>au1</th>\n",
       "      <th>emotion</th>\n",
       "      <th>frame</th>\n",
       "      <th>session</th>\n",
       "      <th>subject</th>\n",
       "      <th>Unnamed: 63</th>\n",
       "    </tr>\n",
       "  </thead>\n",
       "  <tbody>\n",
       "    <tr>\n",
       "      <th>0</th>\n",
       "      <td>0</td>\n",
       "      <td>0</td>\n",
       "      <td>0</td>\n",
       "      <td>0</td>\n",
       "      <td>0</td>\n",
       "      <td>disgust</td>\n",
       "      <td>11</td>\n",
       "      <td>6</td>\n",
       "      <td>s090</td>\n",
       "      <td>NaN</td>\n",
       "    </tr>\n",
       "    <tr>\n",
       "      <th>1</th>\n",
       "      <td>0</td>\n",
       "      <td>0</td>\n",
       "      <td>0</td>\n",
       "      <td>0</td>\n",
       "      <td>0</td>\n",
       "      <td>contempt</td>\n",
       "      <td>15</td>\n",
       "      <td>2</td>\n",
       "      <td>s148</td>\n",
       "      <td>NaN</td>\n",
       "    </tr>\n",
       "    <tr>\n",
       "      <th>2</th>\n",
       "      <td>1</td>\n",
       "      <td>0</td>\n",
       "      <td>0</td>\n",
       "      <td>0</td>\n",
       "      <td>0</td>\n",
       "      <td>happy</td>\n",
       "      <td>33</td>\n",
       "      <td>4</td>\n",
       "      <td>s052</td>\n",
       "      <td>NaN</td>\n",
       "    </tr>\n",
       "  </tbody>\n",
       "</table>\n",
       "</div>"
      ],
      "text/plain": [
       "   au6  au5  au4  au2  au1   emotion  frame  session subject  Unnamed: 63\n",
       "0    0    0    0    0    0   disgust     11        6    s090          NaN\n",
       "1    0    0    0    0    0  contempt     15        2    s148          NaN\n",
       "2    1    0    0    0    0     happy     33        4    s052          NaN"
      ]
     },
     "execution_count": 14,
     "metadata": {},
     "output_type": "execute_result"
    }
   ],
   "source": [
    "allData.iloc[0:3,55:65]"
   ]
  },
  {
   "cell_type": "code",
   "execution_count": 16,
   "metadata": {
    "collapsed": false
   },
   "outputs": [
    {
     "data": {
      "text/html": [
       "<div>\n",
       "<table border=\"1\" class=\"dataframe\">\n",
       "  <thead>\n",
       "    <tr style=\"text-align: right;\">\n",
       "      <th></th>\n",
       "      <th>timesList</th>\n",
       "      <th>utilitiesList</th>\n",
       "      <th>chunkList</th>\n",
       "      <th>hypothesesList</th>\n",
       "      <th>productionList</th>\n",
       "    </tr>\n",
       "  </thead>\n",
       "  <tbody>\n",
       "    <tr>\n",
       "      <th>0</th>\n",
       "      <td>[31900.164, 31900.414, 31900.465, 31900.514, 3...</td>\n",
       "      <td>[5.187492, 5.437492, 8.198252, 0.1817554, 8.14...</td>\n",
       "      <td>&lt;zip object at 0x000000000BB34208&gt;</td>\n",
       "      <td>['SURPRISE', 'SURPRISE', 'SURPRISE', 'DISGUST'...</td>\n",
       "      <td>['RECEIVE-FEEDBACK-CATEGORY-RIGHT', 'CONCLUDE-...</td>\n",
       "    </tr>\n",
       "    <tr>\n",
       "      <th>1</th>\n",
       "      <td>[31899.215, 31899.465, 31899.514, 31899.564, 3...</td>\n",
       "      <td>[5.187492, 5.437492, 8.446661, 0.0, 8.201254, ...</td>\n",
       "      <td>&lt;zip object at 0x000000000BB34748&gt;</td>\n",
       "      <td>['SURPRISE', 'DISGUST', 'DISGUST', 'DISGUST', ...</td>\n",
       "      <td>['RECEIVE-FEEDBACK-CATEGORY-WRONG', 'CONCLUDE-...</td>\n",
       "    </tr>\n",
       "    <tr>\n",
       "      <th>2</th>\n",
       "      <td>[31898.164, 31898.414, 31898.465, 31898.514, 3...</td>\n",
       "      <td>[5.187492, 5.437492, 8.164805, 0.0, 7.401713, ...</td>\n",
       "      <td>&lt;zip object at 0x000000000BB34888&gt;</td>\n",
       "      <td>['SURPRISE', 'DISGUST', 'DISGUST', 'DISGUST', ...</td>\n",
       "      <td>['RECEIVE-FEEDBACK-CATEGORY-WRONG', 'CONCLUDE-...</td>\n",
       "    </tr>\n",
       "  </tbody>\n",
       "</table>\n",
       "</div>"
      ],
      "text/plain": [
       "                                           timesList  \\\n",
       "0  [31900.164, 31900.414, 31900.465, 31900.514, 3...   \n",
       "1  [31899.215, 31899.465, 31899.514, 31899.564, 3...   \n",
       "2  [31898.164, 31898.414, 31898.465, 31898.514, 3...   \n",
       "\n",
       "                                       utilitiesList  \\\n",
       "0  [5.187492, 5.437492, 8.198252, 0.1817554, 8.14...   \n",
       "1  [5.187492, 5.437492, 8.446661, 0.0, 8.201254, ...   \n",
       "2  [5.187492, 5.437492, 8.164805, 0.0, 7.401713, ...   \n",
       "\n",
       "                            chunkList  \\\n",
       "0  <zip object at 0x000000000BB34208>   \n",
       "1  <zip object at 0x000000000BB34748>   \n",
       "2  <zip object at 0x000000000BB34888>   \n",
       "\n",
       "                                      hypothesesList  \\\n",
       "0  ['SURPRISE', 'SURPRISE', 'SURPRISE', 'DISGUST'...   \n",
       "1  ['SURPRISE', 'DISGUST', 'DISGUST', 'DISGUST', ...   \n",
       "2  ['SURPRISE', 'DISGUST', 'DISGUST', 'DISGUST', ...   \n",
       "\n",
       "                                      productionList  \n",
       "0  ['RECEIVE-FEEDBACK-CATEGORY-RIGHT', 'CONCLUDE-...  \n",
       "1  ['RECEIVE-FEEDBACK-CATEGORY-WRONG', 'CONCLUDE-...  \n",
       "2  ['RECEIVE-FEEDBACK-CATEGORY-WRONG', 'CONCLUDE-...  "
      ]
     },
     "execution_count": 16,
     "metadata": {},
     "output_type": "execute_result"
    }
   ],
   "source": [
    "allData.iloc[0:3,65:70]"
   ]
  },
  {
   "cell_type": "code",
   "execution_count": 17,
   "metadata": {
    "collapsed": false
   },
   "outputs": [
    {
     "data": {
      "text/html": [
       "<div>\n",
       "<table border=\"1\" class=\"dataframe\">\n",
       "  <thead>\n",
       "    <tr style=\"text-align: right;\">\n",
       "      <th></th>\n",
       "      <th>numHypothesesChange</th>\n",
       "      <th>initAU</th>\n",
       "      <th>finalAU</th>\n",
       "    </tr>\n",
       "  </thead>\n",
       "  <tbody>\n",
       "    <tr>\n",
       "      <th>0</th>\n",
       "      <td>2</td>\n",
       "      <td>['AU10', 'AU12', 'AU5']</td>\n",
       "      <td>['AU43', 'AU6', 'AU38', 'AU22']</td>\n",
       "    </tr>\n",
       "    <tr>\n",
       "      <th>1</th>\n",
       "      <td>2</td>\n",
       "      <td>['AU27']</td>\n",
       "      <td>['AU45', 'AU10', 'AU34', 'AU39']</td>\n",
       "    </tr>\n",
       "    <tr>\n",
       "      <th>2</th>\n",
       "      <td>2</td>\n",
       "      <td>['AU2']</td>\n",
       "      <td>['AU15', 'AU30', 'AU64', 'AU38', 'AU20']</td>\n",
       "    </tr>\n",
       "  </tbody>\n",
       "</table>\n",
       "</div>"
      ],
      "text/plain": [
       "   numHypothesesChange                   initAU  \\\n",
       "0                    2  ['AU10', 'AU12', 'AU5']   \n",
       "1                    2                 ['AU27']   \n",
       "2                    2                  ['AU2']   \n",
       "\n",
       "                                    finalAU  \n",
       "0           ['AU43', 'AU6', 'AU38', 'AU22']  \n",
       "1          ['AU45', 'AU10', 'AU34', 'AU39']  \n",
       "2  ['AU15', 'AU30', 'AU64', 'AU38', 'AU20']  "
      ]
     },
     "execution_count": 17,
     "metadata": {},
     "output_type": "execute_result"
    }
   ],
   "source": [
    "allData.iloc[0:3,70:]"
   ]
  },
  {
   "cell_type": "code",
   "execution_count": null,
   "metadata": {
    "collapsed": true
   },
   "outputs": [],
   "source": []
  }
 ],
 "metadata": {
  "kernelspec": {
   "display_name": "Python 3",
   "language": "python",
   "name": "python3"
  },
  "language_info": {
   "codemirror_mode": {
    "name": "ipython",
    "version": 3
   },
   "file_extension": ".py",
   "mimetype": "text/x-python",
   "name": "python",
   "nbconvert_exporter": "python",
   "pygments_lexer": "ipython3",
   "version": "3.6.0"
  }
 },
 "nbformat": 4,
 "nbformat_minor": 2
}
