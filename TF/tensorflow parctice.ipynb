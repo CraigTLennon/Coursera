{
 "cells": [
  {
   "cell_type": "markdown",
   "id": "84806288",
   "metadata": {},
   "source": [
    "Tensorflow practice from coursera imperial college london"
   ]
  },
  {
   "cell_type": "code",
   "execution_count": 3,
   "id": "e73dcc0e",
   "metadata": {},
   "outputs": [
    {
     "data": {
      "text/plain": [
       "'2.4.1'"
      ]
     },
     "execution_count": 3,
     "metadata": {},
     "output_type": "execute_result"
    }
   ],
   "source": [
    "import tensorflow as tf\n",
    "import numpy as np\n",
    "tf.__version__"
   ]
  },
  {
   "cell_type": "markdown",
   "id": "cb0f5eb7",
   "metadata": {},
   "source": [
    "Week 1"
   ]
  },
  {
   "cell_type": "code",
   "execution_count": 6,
   "id": "9eaa9779",
   "metadata": {},
   "outputs": [],
   "source": [
    "mnist_data='/home/craig/Documents/coursera/TF/imperial_1/1/tutorials/data/mnist.csv'\n",
    "data=np.loadtxt(mnist_data,delimiter=',')"
   ]
  },
  {
   "cell_type": "code",
   "execution_count": 7,
   "id": "7086ade4",
   "metadata": {},
   "outputs": [
    {
     "data": {
      "text/plain": [
       "(60000, 785)"
      ]
     },
     "execution_count": 7,
     "metadata": {},
     "output_type": "execute_result"
    }
   ],
   "source": [
    "data.shape"
   ]
  },
  {
   "cell_type": "code",
   "execution_count": 9,
   "id": "084f8017",
   "metadata": {},
   "outputs": [],
   "source": [
    "x_train=data[:,1:]\n",
    "y_train=data[:,0]\n",
    "x_train=x_train/255.0"
   ]
  },
  {
   "cell_type": "markdown",
   "id": "61c80860",
   "metadata": {},
   "source": [
    "Adam optimizer(https://arxiv.org/pdf/1412.6980.pdf):\n",
    "Uses a momentum term $m_t$ at time step t, with weights at time t being $w_t$, along with a learning rate (step size) and two decay rates, respectively (with recommended defaults) $\\alpha=.001, \\beta_1=.9, \\beta_2=.999,\\epsilon=10*{-8}$.  The optimization function is $f$. \\\n",
    "$g \\leftarrow \\nabla_w f(w)$ get gradients \\\n",
    "$m \\leftarrow \\beta_1 m +(1-\\beta_2)g$ update biased first moment \\\n",
    "$v \\leftarrow \\beta_2 v +(1-\\beta_2)g^2$ update biased second moment \\\n",
    "$m \\leftarrow m/(1-\\beta_1)$ bias corrected first moment \\\n",
    "$v \\leftarrow m/(1-\\beta_2)$ bias corrected second moment \\\n",
    "$w \\leftarrow w -\\alpha m/(\\sqrt{v} +\\epsilon)$ update weights \n",
    "\n",
    "Use sparse categorical cross entropy when labels are integers, categorical when labels are one hot encoded.\n",
    "Accuracy is what proportion of predictions are equal to labels.\n"
   ]
  },
  {
   "cell_type": "code",
   "execution_count": 12,
   "id": "f21df73c",
   "metadata": {},
   "outputs": [],
   "source": [
    "model=tf.keras.models.Sequential([\n",
    "    tf.keras.layers.Dense(16,activation='relu'),\n",
    "    tf.keras.layers.Dense(10,activation='softmax')\n",
    "])\n",
    "model.compile(optimizer='adam',\n",
    "              loss='sparse_categorical_crossentropy',\n",
    "              metrics=['accuracy'])"
   ]
  },
  {
   "cell_type": "code",
   "execution_count": 18,
   "id": "d27afe1f",
   "metadata": {},
   "outputs": [],
   "source": [
    "#alternatively\n",
    "model=tf.keras.models.Sequential()\n",
    "model.add(tf.keras.layers.Dense(16,activation='relu')) # can add input shape if desired, \n",
    "#Flattern layer unrolls a multi dim tensor into a vector\n",
    "model.add(tf.keras.layers.Dense(10,activation='softmax'))\n",
    "model.compile(optimizer='adam',\n",
    "              loss='sparse_categorical_crossentropy',\n",
    "              metrics=['accuracy'])"
   ]
  },
  {
   "cell_type": "code",
   "execution_count": 19,
   "id": "ee9017b2",
   "metadata": {},
   "outputs": [
    {
     "name": "stdout",
     "output_type": "stream",
     "text": [
      "Epoch 1/3\n",
      "1875/1875 [==============================] - 16s 8ms/step - loss: 0.7419 - accuracy: 0.7821\n",
      "Epoch 2/3\n",
      "1875/1875 [==============================] - 20s 11ms/step - loss: 0.2656 - accuracy: 0.9241\n",
      "Epoch 3/3\n",
      "1875/1875 [==============================] - 19s 10ms/step - loss: 0.2182 - accuracy: 0.9384\n"
     ]
    },
    {
     "data": {
      "text/plain": [
       "<tensorflow.python.keras.callbacks.History at 0x7ff46c159820>"
      ]
     },
     "execution_count": 19,
     "metadata": {},
     "output_type": "execute_result"
    }
   ],
   "source": [
    "model.fit(x_train,y_train,epochs=3,batch_size=32)\n"
   ]
  },
  {
   "cell_type": "markdown",
   "id": "0a207b18",
   "metadata": {},
   "source": [
    "Week 2:  Sequential models"
   ]
  },
  {
   "cell_type": "code",
   "execution_count": 22,
   "id": "03e5e0ba",
   "metadata": {},
   "outputs": [],
   "source": [
    "from tensorflow.keras.models import Sequential\n",
    "from tensorflow.keras.layers import Dense, Flatten, Softmax,Conv2D,MaxPooling2D"
   ]
  },
  {
   "cell_type": "code",
   "execution_count": 29,
   "id": "f4773d24",
   "metadata": {},
   "outputs": [
    {
     "name": "stdout",
     "output_type": "stream",
     "text": [
      "Model: \"sequential_11\"\n",
      "_________________________________________________________________\n",
      "Layer (type)                 Output Shape              Param #   \n",
      "=================================================================\n",
      "flatten_4 (Flatten)          (None, 784)               0         \n",
      "_________________________________________________________________\n",
      "cool_layer (Dense)           (None, 16)                12560     \n",
      "_________________________________________________________________\n",
      "dense_28 (Dense)             (None, 16)                272       \n",
      "_________________________________________________________________\n",
      "dense_29 (Dense)             (None, 10)                170       \n",
      "=================================================================\n",
      "Total params: 13,002\n",
      "Trainable params: 13,002\n",
      "Non-trainable params: 0\n",
      "_________________________________________________________________\n"
     ]
    }
   ],
   "source": [
    "#feed forward  Weights are created when input layer provided (e.g via flatten or other)\n",
    "model=Sequential([\n",
    "    Flatten(input_shape=(28,28)),\n",
    "    tf.keras.layers.Dense(16,activation='relu',name='cool_layer'),\n",
    "    tf.keras.layers.Dense(16,activation='relu'),\n",
    "    tf.keras.layers.Dense(10,activation='softmax')\n",
    "])\n",
    "#model.weights\n",
    "model.summary()"
   ]
  }
 ],
 "metadata": {
  "kernelspec": {
   "display_name": "Python 3 (ipykernel)",
   "language": "python",
   "name": "python3"
  },
  "language_info": {
   "codemirror_mode": {
    "name": "ipython",
    "version": 3
   },
   "file_extension": ".py",
   "mimetype": "text/x-python",
   "name": "python",
   "nbconvert_exporter": "python",
   "pygments_lexer": "ipython3",
   "version": "3.9.12"
  }
 },
 "nbformat": 4,
 "nbformat_minor": 5
}
