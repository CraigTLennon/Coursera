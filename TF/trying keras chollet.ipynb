{
 "cells": [
  {
   "cell_type": "code",
   "execution_count": 3,
   "id": "847a5885",
   "metadata": {},
   "outputs": [],
   "source": [
    "import numpy as np\n",
    "import tensorflow as tf\n",
    "from tensorflow import keras\n",
    "\n"
   ]
  },
  {
   "cell_type": "code",
   "execution_count": 2,
   "id": "d89d4676",
   "metadata": {},
   "outputs": [],
   "source": [
    "\n",
    "model_location='/home/craig/Documents/YOLO-3-OpenCV/yolo3_tf/yolov3_model'\n",
    "yolo3_model=keras.models.load_model(model_location,compile=False)"
   ]
  },
  {
   "cell_type": "code",
   "execution_count": 4,
   "id": "2f6ce96a",
   "metadata": {},
   "outputs": [],
   "source": [
    "# The dimensions of our input image\n",
    "img_width = 416\n",
    "img_height = 416\n",
    "# Our target layer: we will visualize the filters from this layer.\n",
    "# See `model.summary()` for list of layer names, if you want to change this.\n",
    "layer_name = \"conv_0\""
   ]
  },
  {
   "cell_type": "code",
   "execution_count": null,
   "id": "f30c4d27",
   "metadata": {},
   "outputs": [],
   "source": [
    "model = keras.applications.ResNet50V2(weights=\"imagenet\", include_top=False)\n",
    "\n",
    "# Set up a model that returns the activation values for our target layer\n",
    "layer = model.get_layer(name=layer_name)\n",
    "feature_extractor = keras.Model(inputs=model.inputs, outputs=layer.output)"
   ]
  },
  {
   "cell_type": "code",
   "execution_count": null,
   "id": "cdcd6c6d",
   "metadata": {},
   "outputs": [],
   "source": [
    "activation = activation_maximization(loss, callbacks=[Print(interval=50)])\n",
    "image = activation[0].astype(np.uint8)\n",
    "\n",
    "# Render\n",
    "subplot_args = { 'nrows': 1, 'ncols': 1, 'figsize': (3, 3),\n",
    "                 'subplot_kw': {'xticks': [], 'yticks': []} }\n",
    "                 \n",
    "f, ax = plt.subplots(**subplot_args)\n",
    "ax.imshow(image)\n",
    "ax.set_title('filter[{:03d}]'.format(filter_number), fontsize=14)\n",
    "plt.tight_layout()\n",
    "plt.show()"
   ]
  }
 ],
 "metadata": {
  "kernelspec": {
   "display_name": "Python 3 (ipykernel)",
   "language": "python",
   "name": "python3"
  },
  "language_info": {
   "codemirror_mode": {
    "name": "ipython",
    "version": 3
   },
   "file_extension": ".py",
   "mimetype": "text/x-python",
   "name": "python",
   "nbconvert_exporter": "python",
   "pygments_lexer": "ipython3",
   "version": "3.9.12"
  }
 },
 "nbformat": 4,
 "nbformat_minor": 5
}
